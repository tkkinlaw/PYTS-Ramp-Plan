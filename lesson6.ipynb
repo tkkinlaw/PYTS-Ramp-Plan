{
 "cells": [
  {
   "cell_type": "markdown",
   "metadata": {},
   "source": [
    "# Challenge Answers"
   ]
  },
  {
   "cell_type": "markdown",
   "metadata": {
    "heading_collapsed": true
   },
   "source": [
    "## Create Point objects"
   ]
  },
  {
   "cell_type": "code",
   "execution_count": 1,
   "metadata": {
    "hidden": true
   },
   "outputs": [
    {
     "data": {
      "text/plain": [
       "<Point (0.0, 0.0, #, #)>"
      ]
     },
     "metadata": {},
     "output_type": "display_data"
    }
   ],
   "source": [
    "# Default location at (0, 0)\n",
    "pt1 = arcpy.Point()\n",
    "\n",
    "# A Point object is just a container for coordinate values\n",
    "display(pt1)"
   ]
  },
  {
   "cell_type": "code",
   "execution_count": 2,
   "metadata": {
    "hidden": true
   },
   "outputs": [
    {
     "data": {
      "text/plain": [
       "<Point (3.0, 5.0, #, #)>"
      ]
     },
     "metadata": {},
     "output_type": "display_data"
    }
   ],
   "source": [
    "# Change coordinates of Point object\n",
    "pt2 = arcpy.Point()\n",
    "pt2.X = 3\n",
    "pt2.Y = 5\n",
    "\n",
    "display(pt2)"
   ]
  },
  {
   "cell_type": "code",
   "execution_count": 3,
   "metadata": {
    "hidden": true
   },
   "outputs": [
    {
     "data": {
      "text/plain": [
       "<Point (1.0, 6.0, #, #)>"
      ]
     },
     "metadata": {},
     "output_type": "display_data"
    }
   ],
   "source": [
    "# Create Point object with specified location\n",
    "pt3 = arcpy.Point(1, 6)\n",
    "\n",
    "display(pt3)"
   ]
  },
  {
   "cell_type": "markdown",
   "metadata": {
    "heading_collapsed": true
   },
   "source": [
    "## Create PointGeometry Object"
   ]
  },
  {
   "cell_type": "code",
   "execution_count": 4,
   "metadata": {
    "hidden": true
   },
   "outputs": [],
   "source": [
    "ptGeom = arcpy.PointGeometry(pt1)"
   ]
  },
  {
   "cell_type": "markdown",
   "metadata": {
    "heading_collapsed": true
   },
   "source": [
    "## Create an array of Point objects"
   ]
  },
  {
   "cell_type": "code",
   "execution_count": 5,
   "metadata": {
    "hidden": true
   },
   "outputs": [
    {
     "data": {
      "text/plain": [
       "<Array [<Point (0.0, 0.0, #, #)>, <Point (3.0, 5.0, #, #)>, <Point (1.0, 6.0, #, #)>]>"
      ]
     },
     "metadata": {},
     "output_type": "display_data"
    }
   ],
   "source": [
    "ptArray = arcpy.Array([pt1, pt2, pt3])\n",
    "\n",
    "display(ptArray)"
   ]
  },
  {
   "cell_type": "markdown",
   "metadata": {
    "heading_collapsed": true
   },
   "source": [
    "## Create a Geometry object from an array of Point objects"
   ]
  },
  {
   "cell_type": "code",
   "execution_count": 6,
   "metadata": {
    "hidden": true
   },
   "outputs": [],
   "source": [
    "# Multipoint\n",
    "mPoint = arcpy.Multipoint(ptArray)"
   ]
  },
  {
   "cell_type": "code",
   "execution_count": 7,
   "metadata": {
    "hidden": true
   },
   "outputs": [],
   "source": [
    "# Polygon\n",
    "pGon = arcpy.Polygon(ptArray)"
   ]
  },
  {
   "cell_type": "code",
   "execution_count": 8,
   "metadata": {
    "hidden": true
   },
   "outputs": [],
   "source": [
    "# Polyline\n",
    "pLine = arcpy.Polyline(ptArray)"
   ]
  },
  {
   "cell_type": "markdown",
   "metadata": {
    "heading_collapsed": true
   },
   "source": [
    "## Create a Geometry object with a specified coordinate reference system"
   ]
  },
  {
   "cell_type": "code",
   "execution_count": 9,
   "metadata": {
    "hidden": true
   },
   "outputs": [
    {
     "data": {
      "image/svg+xml": [
       "<svg xmlns=\"http://www.w3.org/2000/svg\" xmlns:xlink=\"http://www.w3.org/1999/xlink\" width=\"100.0\" height=\"100.0\" viewBox=\"-1.0 -1.0 2.0 2.0\" preserveAspectRatio=\"xMinYMin meet\"><g transform=\"matrix(1,0,0,-1,0,0.0)\"><circle cx=\"0.0\" cy=\"0.0\" r=\"0.06\" stroke=\"#555555\" stroke-width=\"0.02\" fill=\"#66cc99\" opacity=\"0.6\" /></g></svg>"
      ],
      "text/plain": [
       "<PointGeometry object at 0x14b99308bc8[0x14b992f98d0]>"
      ]
     },
     "metadata": {},
     "output_type": "display_data"
    }
   ],
   "source": [
    "display(ptGeom)"
   ]
  },
  {
   "cell_type": "code",
   "execution_count": 10,
   "metadata": {
    "hidden": true
   },
   "outputs": [
    {
     "data": {
      "image/svg+xml": [
       "<svg xmlns=\"http://www.w3.org/2000/svg\" xmlns:xlink=\"http://www.w3.org/1999/xlink\" width=\"100.0\" height=\"100.0\" viewBox=\"-0.24 -0.24 3.4800000000000004 6.48\" preserveAspectRatio=\"xMinYMin meet\"><g transform=\"matrix(1,0,0,-1,0,6.0)\"><g><circle cx=\"0\" cy=\"0\" r=\"0.19440000000000002\" stroke=\"#555555\" stroke-width=\"0.06480000000000001\" fill=\"#66cc99\" opacity=\"0.6\" /><circle cx=\"3\" cy=\"5\" r=\"0.19440000000000002\" stroke=\"#555555\" stroke-width=\"0.06480000000000001\" fill=\"#66cc99\" opacity=\"0.6\" /><circle cx=\"1\" cy=\"6\" r=\"0.19440000000000002\" stroke=\"#555555\" stroke-width=\"0.06480000000000001\" fill=\"#66cc99\" opacity=\"0.6\" /></g></g></svg>"
      ],
      "text/plain": [
       "<Multipoint object at 0x14b992fe108[0x14b992f9ba0]>"
      ]
     },
     "metadata": {},
     "output_type": "display_data"
    }
   ],
   "source": [
    "display(mPoint)"
   ]
  },
  {
   "cell_type": "code",
   "execution_count": 11,
   "metadata": {
    "hidden": true
   },
   "outputs": [
    {
     "data": {
      "image/svg+xml": [
       "<svg xmlns=\"http://www.w3.org/2000/svg\" xmlns:xlink=\"http://www.w3.org/1999/xlink\" width=\"100.0\" height=\"100.0\" viewBox=\"-0.24000488281250001 -0.24000488281250001 3.4801318359374998 6.480131835937501\" preserveAspectRatio=\"xMinYMin meet\"><g transform=\"matrix(1,0,0,-1,0,6.0001220703125)\"><path fill-rule=\"evenodd\" fill=\"#66cc99\" stroke=\"#555555\" stroke-width=\"0.12960263671875003\" opacity=\"0.6\" d=\" M 0,0 L 1.0001220703125,6.0001220703125 L 3.0001220703125,5.0001220703125 L 0,0 z\" /></g></svg>"
      ],
      "text/plain": [
       "<Polygon object at 0x14b992fe708[0x14b9934be40]>"
      ]
     },
     "metadata": {},
     "output_type": "display_data"
    }
   ],
   "source": [
    "display(pGon)"
   ]
  },
  {
   "cell_type": "code",
   "execution_count": 12,
   "metadata": {
    "hidden": true
   },
   "outputs": [
    {
     "data": {
      "image/svg+xml": [
       "<svg xmlns=\"http://www.w3.org/2000/svg\" xmlns:xlink=\"http://www.w3.org/1999/xlink\" width=\"100.0\" height=\"100.0\" viewBox=\"-0.24 -0.24 3.4800000000000004 6.48\" preserveAspectRatio=\"xMinYMin meet\"><g transform=\"matrix(1,0,0,-1,0,6.0)\"><g><polyline fill=\"none\" stroke=\"#66cc99\" stroke-width=\"0.12960000000000002\" points=\"0,0 3,5 1,6\" opacity=\"0.8\" /></g></g></svg>"
      ],
      "text/plain": [
       "<Polyline object at 0x14b992feb88[0x14b9934b5a0]>"
      ]
     },
     "metadata": {},
     "output_type": "display_data"
    }
   ],
   "source": [
    "display(pLine)"
   ]
  },
  {
   "cell_type": "markdown",
   "metadata": {
    "heading_collapsed": true
   },
   "source": [
    "## Access a spatial property of a Geometry object"
   ]
  },
  {
   "cell_type": "code",
   "execution_count": 13,
   "metadata": {
    "hidden": true
   },
   "outputs": [
    {
     "data": {
      "text/html": [
       "<style>table td#td0  {font-weight: bold}</style><table class=\"notebook\"><colgroup><col style=\"width:45%\"></col><col style=\"width:55%\"></col></colgroup><tr><td id = \"td0\" title=\"name (Unknown Coordinate System)\">name (Unknown Coordinate System)</td><td title=\"Unknown\">Unknown</td></tr><tr><td id = \"td0\" title=\"factoryCode (WKID)\">factoryCode (WKID)</td><td title=\"0\">0</td></tr></table>"
      ],
      "text/plain": [
       "<SpatialReference object at 0x14b99358108[0x14b99348830]>"
      ]
     },
     "execution_count": 13,
     "metadata": {},
     "output_type": "execute_result"
    }
   ],
   "source": [
    "pLine.spatialReference"
   ]
  },
  {
   "cell_type": "code",
   "execution_count": 14,
   "metadata": {
    "hidden": true
   },
   "outputs": [
    {
     "data": {
      "text/plain": [
       "8.06701987234509"
      ]
     },
     "execution_count": 14,
     "metadata": {},
     "output_type": "execute_result"
    }
   ],
   "source": [
    "pLine.length"
   ]
  },
  {
   "cell_type": "markdown",
   "metadata": {},
   "source": [
    "## Access a spatial method of a Geometry object"
   ]
  },
  {
   "cell_type": "code",
   "execution_count": 15,
   "metadata": {},
   "outputs": [
    {
     "name": "stdout",
     "output_type": "stream",
     "text": [
      "The X coordinate is: 2.075223741635528 and the Y coordinate is: 3.458706236059213\n"
     ]
    },
    {
     "data": {
      "text/plain": [
       "[None]"
      ]
     },
     "execution_count": 15,
     "metadata": {},
     "output_type": "execute_result"
    }
   ],
   "source": [
    "# find a point exactly 50% of the way along the distance of a line\n",
    "midPoint = pLine.positionAlongLine(0.50, True)\n",
    "[print(f\"The X coordinate is: {row.X} and the Y coordinate is: {row.Y}\") for row in midPoint]"
   ]
  },
  {
   "cell_type": "markdown",
   "metadata": {},
   "source": [
    "## Pass a geometry object to a geoprocessing tool"
   ]
  },
  {
   "cell_type": "code",
   "execution_count": null,
   "metadata": {},
   "outputs": [],
   "source": [
    "bufferOutput = \"memory/buffer\"\n",
    "\n",
    "arcpy.analysis.Buffer(pLine, bufferOutput, \"1 meter\")"
   ]
  },
  {
   "cell_type": "markdown",
   "metadata": {
    "heading_collapsed": true
   },
   "source": [
    "## Use a cursor to access the geometry of a feature"
   ]
  },
  {
   "cell_type": "code",
   "execution_count": 17,
   "metadata": {
    "hidden": true
   },
   "outputs": [
    {
     "data": {
      "image/svg+xml": [
       "<svg xmlns=\"http://www.w3.org/2000/svg\" xmlns:xlink=\"http://www.w3.org/1999/xlink\" width=\"100.0\" height=\"100.0\" viewBox=\"-1.3200036474633379 -1.3200048149664292 5.640131898011012 8.64013170539632\" preserveAspectRatio=\"xMinYMin meet\"><g transform=\"matrix(1,0,0,-1,0,6.0001220754634605)\"><path fill-rule=\"evenodd\" fill=\"#66cc99\" stroke=\"#555555\" stroke-width=\"0.1728026341079264\" opacity=\"0.6\" d=\" M 0.04486656188964844,-0.998992919921875 L -0.05305571444868563,-0.9985914941591454 L -0.15046924268467246,-0.9886146277903607 L -0.24643992850297586,-0.9691579885767523 L -0.34004751294485364,-0.9404081454314278 L -0.4303943967334605,-0.9026407794177383 L -0.5166142473163927,-0.8562180402549013 L -0.597880306092899,-0.8015850736792388 L -0.6734133161680939,-0.7392657529600227 L -0.742488994615272,-0.6698576555002443 L -0.8044449775950981,-0.5940263326914768 L -0.8586871717352194,-0.5124989279689577 L -0.904695450867174,-0.42605720426309845 L -0.9420286434948283,-0.33553004770689987 L -0.9703287631697045,-0.2417855194809191 L -0.9893244412083114,-0.14572253201031404 L -0.9988335288352874,-0.04826222933057413 L -0.9987648438005154,0.04966084572474642 L -0.9891190447219688,0.14710771281682045 L -0.9699886247702504,0.24314395794539115 L -0.9415570247553838,0.33684869350618696 L -0.9040968741204328,0.42732338864427966 L -0.8579673767089844,0.5137004852294922 L 1.5870304107666016,4.58863639831543 L 0.5529079437255859,5.105695724487305 L 0.4673921852746745,5.15383722783665 L 0.3870069046873631,5.210128931959628 L 0.312526257173092,5.2740287162630555 L 0.2446675330225021,5.3449211900866125 L 0.18408424970077286,5.4221236192590725 L 0.13135985810893813,5.504892501210206 L 0.08700212362540105,5.592430725316351 L 0.05143823604135844,5.683895249521527 L 0.025010695484196654,5.778405219303922 L 0.007974013949713532,5.875050450797577 L 0.000492264209256521,5.972900196372059 L 0.0026374996971730846,6.071012108252682 L 0.014389060595940473,6.168441313856608 L 0.03563377280176305,6.264249515444267 L 0.06616703785448674,6.357514026451347 L 0.10569480333519732,6.447336657476449 L 0.15383639475547017,6.532852366347353 L 0.21012818166559522,6.613237588960932 L 0.27402804267510383,6.687718170666066 L 0.3449205863849534,6.755576821805893 L 0.42212307795087356,6.816160025618368 L 0.5048920142017479,6.868884331968173 L 0.5924302839909823,6.913241976297838 L 0.6838948448226386,6.9488057696843955 L 0.7784048418221747,6.975233212907634 L 0.8750500908615132,6.992269794909135 L 0.9728998441412461,6.999751443876111 L 1.071011753812481,6.997606107344719 L 1.1684409473136617,6.985854446105586 L 1.2642491270217684,6.964609635228843 L 1.3575136065832067,6.934076274124899 L 1.447336196899414,6.894548416137695 L 3.447336196899414,5.894548416137695 L 3.531740046953937,5.847106195494156 L 3.6111601081314983,5.791723634284249 L 3.684851828780742,5.728919936054204 L 3.7521243596189158,5.659283876442508 L 3.8123470303445384,5.583468283492971 L 3.864955262080774,5.502183917485706 L 3.909455860221206,5.416192807661722 L 3.945431638058338,5.326301108308389 L 3.9725453278489784,5.233351541178931 L 3.9905427426508275,5.138215495097191 L 3.9992551592885044,5.041784856812733 L 3.9986009001090497,4.944963649690828 L 3.9885860986981747,4.848659558623432 L 3.969304642378779,4.753775420613857 L 3.9409372920308003,4.66120076080972 L 3.903749987483962,4.571803453332607 L 3.858091354370117,4.486421585083008 L 0.8574886322021484,-0.5145015716552734 L 0.8027065306199103,-0.5963729152191732 L 0.7401349891743096,-0.6724570643689556 L 0.6703811983620561,-0.7420157030707386 L 0.5941220447982487,-0.8043738384538337 L 0.5120975427491382,-0.858926350901202 L 0.4251036530779364,-0.9051438660940332 L 0.3339845592881945,-0.9425778920284822 L 0.23962447561756206,-0.970865171155257 L 0.14293906667569758,-0.9897312054091549 L 0.04486656188964844,-0.998992919921875 z\" /></g></svg>"
      ],
      "text/plain": [
       "<Polygon object at 0x14b99569948[0x14b992f91b0]>"
      ]
     },
     "metadata": {},
     "output_type": "display_data"
    }
   ],
   "source": [
    "with arcpy.da.SearchCursor(bufferOutput, [\"SHAPE@\"]) as sCursor:\n",
    "    for row in sCursor:\n",
    "        display(row[0])"
   ]
  }
 ],
 "metadata": {
  "kernelspec": {
   "display_name": "ArcGISPro",
   "language": "Python",
   "name": "python3"
  },
  "language_info": {
   "file_extension": ".py",
   "name": "python",
   "version": "3"
  }
 },
 "nbformat": 4,
 "nbformat_minor": 2
}
